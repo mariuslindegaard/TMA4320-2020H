{
 "cells": [
  {
   "cell_type": "markdown",
   "metadata": {},
   "source": [
    "# Øving 3 - TMA4320\n",
    "* **Veiledning:** Torsdag 23. januar, 2020, 0815-0900 i H3\n",
    "* **Innleveringsfrist:** Torsdag 30. januar, 2020, kl 1400\n",
    "* **Innleveringsmetode** Følgende to krav er nødvendig for godkjenning\n",
    "    1. Opplasting av Jupyter Notebook (individuelt) i Blackboard\n",
    "    2. Svare på Blackboardskjema for de tre kontrollspørsmålene i øvingen\n",
    "\n",
    "Denne øvingen dreier seg om polynominterpolasjon. Bruk penn og papir til å finne svarene. Ta kopi av denne Jupyter Notebook'en og fyll inn svarene. Last opp den utfylte Notebook'en i Blackboard. Ta også quizen i Bb.\n",
    "\n",
    "**Oppgave 1**\n",
    "\n",
    "La følgende interpolasjonsdata være gitt\n",
    "\n",
    "$$\n",
    " \\begin{array}{|r||r|r|r|r|}\n",
    " \\hline\n",
    " x_i & 0 & \\frac12 & 1 & 2 \\\\ \\hline\n",
    " y_i & 1 & 1 & 2 & 1 \\\\ \\hline\n",
    " \\end{array}\n",
    "$$\n",
    "\n",
    "<div class=\"alert alert-block alert-success\">\n",
    "**Oppgave 1a.**\n",
    "Bestem Lagrangefunksjonene $L_i(x),\\ i=0,\\ldots,3$ og bestem interpolasjonspolynomet $P_3(x)$ av grad 3.\n",
    "</div>\n"
   ]
  },
  {
   "cell_type": "markdown",
   "metadata": {},
   "source": [
    "**Kontrollspørsmål 0:**\n",
    "Hva er koeffisienten foran $x^2$ i $L_0$? \n",
    "\n",
    "**Kontrollspørsmål 1:**\n",
    "Hva er koeffisienten foran $x$ i $L_1$? \n",
    "\n",
    "**Kontrollspørsmål 2:**\n",
    "Hva er koeffisienten foran $x$ i $L_2$? \n",
    "\n",
    "**Kontrollspørsmål 3:**\n",
    "Hva er koeffisienten foran $x^2$ i $L_3$?\n",
    "\n",
    "**Kontrollspørsmål 4:**\n",
    "Hva er koeffisienten foran $x^3$ i $P_3$? \n"
   ]
  },
  {
   "cell_type": "code",
   "execution_count": 11,
   "metadata": {},
   "outputs": [
    {
     "data": {
      "text/plain": [
       "(-3, 5)"
      ]
     },
     "execution_count": 11,
     "metadata": {},
     "output_type": "execute_result"
    },
    {
     "data": {
      "image/png": "[encoded data removed]",
      "text/plain": [
       "<Figure size 432x288 with 1 Axes>"
      ]
     },
     "metadata": {
      "needs_background": "light"
     },
     "output_type": "display_data"
    }
   ],
   "source": [
    "import matplotlib.pyplot as plt\n",
    "import numpy as np\n",
    "\n",
    "x = np.linspace(-0.5, 2.5, 301)\n",
    "y = -2*x**3 + 5*x**2 - 2*x + 1\n",
    "\n",
    "plt.plot(x, y)\n",
    "plt.plot(x, np.ones_like(x), \"--r\")\n",
    "plt.plot(x, np.ones_like(x)*2, \"--r\")\n",
    "plt.grid()\n",
    "plt.ylim([-3, 5])"
   ]
  },
  {
   "cell_type": "markdown",
   "metadata": {},
   "source": [
    "**Løsning 1a.**\n"
   ]
  },
  {
   "cell_type": "markdown",
   "metadata": {},
   "source": [
    "<div class=\"alert alert-block alert-success\">\n",
    "**Oppgave 1b.** Sett opp tabellen over dividerte differenser for dataene ovenfor, og skriv ned interpolasjonspolynomet på Newton's form.\n",
    "</div>"
   ]
  },
  {
   "cell_type": "markdown",
   "metadata": {},
   "source": [
    "**Kontrollspørsmål 5:**\n",
    "Hva er $f\\left[x_0, x_1, x_2\\right]$? \n",
    "Fra den rekursive formelen: 2!\n"
   ]
  },
  {
   "cell_type": "markdown",
   "metadata": {},
   "source": [
    "**Løsning 1b.** Har skrevet tabellen i fysisk notatblokk. Kan oppsummere:\n",
    "\n",
    "$$\n",
    "    \\begin{align}\n",
    "        x_0 = 0:& f[x_0] = 1&& \\\\\n",
    "        && f[x_0, x_1] = 0 & \\\\\n",
    "        x_1 = 1:& f[x_1] = 1& &  f[x_0, x_1, x_2] = 2 \\\\\n",
    "        && f[x_1, x_2] = 2 & \\\\\n",
    "        x_2 = 1:& f[x_2] = 2&& \\\\\n",
    "    \\end{align}\n",
    "$$"
   ]
  },
  {
   "cell_type": "markdown",
   "metadata": {},
   "source": [
    "**Oppgave 2**\n",
    " \n",
    "Kvadratrotfunksjonen, $f(x)=\\sqrt{x}$ skal approksimeres med lineær interpolasjon med hensyn på abscissene\n",
    "$x_0=\\frac14$ og $x_1=1$.\n",
    "\n",
    "*Kommentar.* Klassiske biblioteksrutiner for beregning av $\\sqrt{x}$ gjør følgende: Først skalerer de argumentet $x$ ved å skrive det på formen $x=2^{2m}y$ der $m$ er et heltall og $\\leq\\frac14\\leq y<1$ slik at $\\sqrt{x}=2^m\\sqrt{y}$. Man kan så bruke Newtoniterasjon på $f(z)=z^2-y=0$ som tar formen $z_{k+1}=\\frac12(z_k+\\frac{y}{z_k})$. Men $z_0$ må bestemmes. Da kan man for eksempel benytte interpolasjon slik vi gjør her, og feilskranke er viktig.\n",
    " \n",
    "<div class=\"alert alert-block alert-success\">\n",
    "**Oppgave 2a.** Finn det lineære interpolasjonspolynomet $P(x)$ som interpolerer $f(x)$ i abscissene $x_0$ og $x_1$.\n",
    "</div>\n",
    "\n",
    "\n",
    "**Kontrollspørsmål 6.** Angi $P(\\frac12)$.\n"
   ]
  },
  {
   "cell_type": "markdown",
   "metadata": {},
   "source": [
    "**Løsning 2a.**\n",
    "\n",
    "\n",
    "Svar: Vi har $P_1(x) = \\frac{2}{3}x + \\frac{1}{3}$, så $P(\\frac12) = \\frac23$"
   ]
  },
  {
   "cell_type": "markdown",
   "metadata": {},
   "source": [
    "<div class=\"alert alert-block alert-success\">\n",
    "**Oppgave 2b.** Bruk den generelle feilformelen for interpolasjon til å lage en øvre skranke for feilen.\n",
    "Gjør dette ved først å bestemme $M=\\max_{t\\in[\\frac14,1]} |f''(t)|$, og deretter finne maximum av absoluttverdien til\n",
    "datapolynomet $(x-x_0)(x-x_1)$.</div>\n",
    "\n",
    "**Kontrollspørsmål 7.** Angi feilskranken som en brøk $\\frac{p}{q}$ der $p$ og $q$ er relativt primiske heltall (dvs brøken er maksimalt forkortet)."
   ]
  },
  {
   "cell_type": "markdown",
   "metadata": {},
   "source": [
    "**Løsning 2b.**\n",
    "\n",
    "Vi har at $f''(x) = \\frac{d}{d x}\\left(\\frac{1}{2\\sqrt{x}}\\right)= -\\frac14 x^{-3/2}$ så $M=\\max_{x\\in[\\frac14,1]} |f''(x)| = f''(\\frac14) = 2$. Videre er $\\max_{x\\in[\\frac14,1]} |(x-\\frac14)(x-1)| = |(\\frac58 - \\frac14)(\\frac58 - 1)| = \\frac{9}{64}$ i $x=\\frac58$.\n",
    "\n",
    "Dermed blir den største feilen på intervallet $x\\in[\\frac14, 1]$\n",
    "$$\n",
    "\\left|f\\left(\\frac58\\right) - P\\left(\\frac58\\right)\\right| = \\frac{2 \\cdot 9/64}{2!} = \\frac{9}{64}\n",
    "$$"
   ]
  },
  {
   "cell_type": "markdown",
   "metadata": {},
   "source": [
    "<div class=\"alert alert-block alert-success\">\n",
    "**Oppgave 2c.** Finn deretter eksakt maksimalfeil $\\max_{x\\in[\\frac14,1]} |f(x)-P(x)|$ og sammenlign denne med skranken fra **2b.** </div>\n",
    "\n",
    "**Kontrollspørsmål 8.** Angi denne maksimalfeilen som en brøk $\\frac{p}{q}$ der $p$ og $q$ er relativt primiske heltall."
   ]
  },
  {
   "cell_type": "markdown",
   "metadata": {},
   "source": [
    "**Løsning 2c.**\n",
    "Vi finner alle maksima/minima av $h(x) = f(x) - P(x)$ på $x\\in[\\frac14, 1]$ ved å evaluere endepunktene og å finne h(x) der $h'(x)=0=\\frac23 + \\frac12x^{-1/2}\\implies x = \\frac{9}{16}$ der $h(9/16) = \\sqrt\\frac{9}{16} - \\frac23\\cdot\\frac{9}{16} - \\frac13 = \\frac{1}{24}$. I endepunktene får vi $h(\\frac14)=h(1)=0$, siden det er der vi har interpolert den lineære funksjonen til f.\n",
    "\n",
    "Dermed er den største feilen $\\frac1{24}$."
   ]
  }
 ],
 "metadata": {
  "kernelspec": {
   "display_name": "Python 3",
   "language": "python",
   "name": "python3"
  },
  "language_info": {
   "codemirror_mode": {
    "name": "ipython",
    "version": 3
   },
   "file_extension": ".py",
   "mimetype": "text/x-python",
   "name": "python",
   "nbconvert_exporter": "python",
   "pygments_lexer": "ipython3",
   "version": "3.7.6"
  },
  "toc": {
   "base_numbering": 1,
   "nav_menu": {},
   "number_sections": true,
   "sideBar": true,
   "skip_h1_title": true,
   "title_cell": "Table of Contents",
   "title_sidebar": "Contents",
   "toc_cell": false,
   "toc_position": {},
   "toc_section_display": true,
   "toc_window_display": false
  }
 },
 "nbformat": 4,
 "nbformat_minor": 2
}
